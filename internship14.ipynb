{
 "cells": [
  {
   "cell_type": "code",
   "execution_count": 10,
   "metadata": {},
   "outputs": [],
   "source": [
    "text = \"Truly Kryptic is the best puzzle game. It's browser-based and free. Google it.\""
   ]
  },
  {
   "cell_type": "code",
   "execution_count": 11,
   "metadata": {},
   "outputs": [
    {
     "data": {
      "text/plain": [
       "['truly',\n",
       " 'kryptic',\n",
       " 'is',\n",
       " 'the',\n",
       " 'best',\n",
       " 'puzzle',\n",
       " 'game',\n",
       " '.',\n",
       " 'it',\n",
       " \"'s\",\n",
       " 'browser-based',\n",
       " 'and',\n",
       " 'free',\n",
       " '.',\n",
       " 'google',\n",
       " 'it',\n",
       " '.']"
      ]
     },
     "execution_count": 11,
     "metadata": {},
     "output_type": "execute_result"
    }
   ],
   "source": [
    "from nltk import word_tokenize\n",
    "text_tokenized=word_tokenize(text.lower())\n",
    "text_tokenized"
   ]
  },
  {
   "cell_type": "code",
   "execution_count": 12,
   "metadata": {},
   "outputs": [
    {
     "data": {
      "text/plain": [
       "'Wordlists  en: English, http://en.wikipedia.org/wiki/Words_(Unix) en-basic: 850 English words: C.K. Ogden in The ABC of Basic English (1932) '"
      ]
     },
     "execution_count": 12,
     "metadata": {},
     "output_type": "execute_result"
    }
   ],
   "source": [
    "from nltk.corpus import words\n",
    "words.readme().replace('\\n',' ')"
   ]
  },
  {
   "cell_type": "code",
   "execution_count": 13,
   "metadata": {},
   "outputs": [
    {
     "data": {
      "text/plain": [
       "<WordListCorpusReader in 'C:\\\\Users\\\\hp\\\\AppData\\\\Roaming\\\\nltk_data\\\\corpora\\\\words'>"
      ]
     },
     "execution_count": 13,
     "metadata": {},
     "output_type": "execute_result"
    }
   ],
   "source": [
    "words"
   ]
  },
  {
   "cell_type": "code",
   "execution_count": 14,
   "metadata": {},
   "outputs": [
    {
     "data": {
      "text/plain": [
       "['en', 'en-basic']"
      ]
     },
     "execution_count": 14,
     "metadata": {},
     "output_type": "execute_result"
    }
   ],
   "source": [
    "words.fileids()\n"
   ]
  },
  {
   "cell_type": "code",
   "execution_count": 15,
   "metadata": {},
   "outputs": [
    {
     "data": {
      "text/plain": [
       "['I',\n",
       " 'a',\n",
       " 'able',\n",
       " 'about',\n",
       " 'account',\n",
       " 'acid',\n",
       " 'across',\n",
       " 'act',\n",
       " 'addition',\n",
       " 'adjustment']"
      ]
     },
     "execution_count": 15,
     "metadata": {},
     "output_type": "execute_result"
    }
   ],
   "source": [
    "words.words('en-basic')[:10]"
   ]
  },
  {
   "cell_type": "code",
   "execution_count": 16,
   "metadata": {},
   "outputs": [
    {
     "data": {
      "text/plain": [
       "235886"
      ]
     },
     "execution_count": 16,
     "metadata": {},
     "output_type": "execute_result"
    }
   ],
   "source": [
    "len(words.words('en'))"
   ]
  },
  {
   "cell_type": "code",
   "execution_count": 17,
   "metadata": {},
   "outputs": [
    {
     "data": {
      "text/plain": [
       "850"
      ]
     },
     "execution_count": 17,
     "metadata": {},
     "output_type": "execute_result"
    }
   ],
   "source": [
    "len(words.words('en-basic'))"
   ]
  },
  {
   "cell_type": "code",
   "execution_count": 18,
   "metadata": {},
   "outputs": [
    {
     "data": {
      "text/plain": [
       "{'google'}"
      ]
     },
     "execution_count": 18,
     "metadata": {},
     "output_type": "execute_result"
    }
   ],
   "source": [
    "english_vocab=set(w.lower() for w in words.words())\n",
    "text_vocab=set(w.lower() for w in text_tokenized if w.isalpha())\n",
    "unusual=text_vocab.difference(english_vocab)\n",
    "unusual"
   ]
  },
  {
   "cell_type": "markdown",
   "metadata": {},
   "source": [
    "### https://medium.com/@pemagrg/nlp-for-beginners-using-nltk-f58ec22005cd"
   ]
  },
  {
   "cell_type": "code",
   "execution_count": 19,
   "metadata": {},
   "outputs": [
    {
     "name": "stdout",
     "output_type": "stream",
     "text": [
      "[('the', 'DT'), ('dogs', 'NNS'), ('are', 'VBP'), ('barking', 'VBG'), ('outside', 'IN')]\n"
     ]
    }
   ],
   "source": [
    "import nltk\n",
    "text=\"the dogs are barking outside\"\n",
    "word=nltk.word_tokenize(text)\n",
    "pos_tag=nltk.pos_tag(word)\n",
    "print(pos_tag)"
   ]
  },
  {
   "cell_type": "code",
   "execution_count": 22,
   "metadata": {},
   "outputs": [
    {
     "name": "stdout",
     "output_type": "stream",
     "text": [
      "['BarrackObama']\n"
     ]
    }
   ],
   "source": [
    "import nltk\n",
    "text = 'who is Barrack Obama'\n",
    "word = nltk.word_tokenize(text)\n",
    "pos_tag = nltk.pos_tag(word)\n",
    "chunk = nltk.ne_chunk(pos_tag)\n",
    "NE = [ ''.join(w for w, t in ele) for ele in chunk if isinstance(ele, nltk.Tree)]\n",
    "print (NE)"
   ]
  },
  {
   "cell_type": "markdown",
   "metadata": {},
   "source": [
    "### https://medium.com/@pemagrg/build-a-web-app-using-pythons-flask-for-beginners-f28315256893"
   ]
  },
  {
   "cell_type": "code",
   "execution_count": 23,
   "metadata": {},
   "outputs": [],
   "source": [
    "text = 'इराक के विदेश मंत्री ने अमरीका के उस प्रस्ताव का मजाक उड़ाया है , जिसमें अमरीका ने संयुक्त राष्ट्र के प्रतिबंधों को इराकी नागरिकों के लिए कम हानिकारक बनाने के लिए कहा है'"
   ]
  },
  {
   "cell_type": "code",
   "execution_count": 29,
   "metadata": {},
   "outputs": [],
   "source": [
    "from nltk.tag import tnt\n",
    "from nltk.corpus import indian\n",
    "train_data=indian.tagged_sents('hindi.pos')\n",
    "tnt_pos_tagger=tnt.TnT()\n",
    "tnt_pos_tagger.train(train_data)"
   ]
  },
  {
   "cell_type": "markdown",
   "metadata": {},
   "source": [
    "### https://blog.ekbana.com/supervised-text-classification-using-machine-learning-b2466c63fb51"
   ]
  },
  {
   "cell_type": "code",
   "execution_count": 25,
   "metadata": {},
   "outputs": [],
   "source": [
    "docA = \"The cat sat on my face\"\n",
    "docB = \"The dog sat on my bed\""
   ]
  },
  {
   "cell_type": "code",
   "execution_count": 26,
   "metadata": {},
   "outputs": [],
   "source": [
    "bowA=docA.split(' ')\n",
    "bowB=docB.split(' ')"
   ]
  },
  {
   "cell_type": "code",
   "execution_count": 27,
   "metadata": {},
   "outputs": [
    {
     "data": {
      "text/plain": [
       "['The', 'dog', 'sat', 'on', 'my', 'bed']"
      ]
     },
     "execution_count": 27,
     "metadata": {},
     "output_type": "execute_result"
    }
   ],
   "source": [
    "bowB"
   ]
  },
  {
   "cell_type": "code",
   "execution_count": 31,
   "metadata": {},
   "outputs": [],
   "source": [
    "wordSet=set(bowA).union(set(bowB))"
   ]
  },
  {
   "cell_type": "code",
   "execution_count": 32,
   "metadata": {},
   "outputs": [
    {
     "data": {
      "text/plain": [
       "{'The', 'bed', 'cat', 'dog', 'face', 'my', 'on', 'sat'}"
      ]
     },
     "execution_count": 32,
     "metadata": {},
     "output_type": "execute_result"
    }
   ],
   "source": [
    "wordSet"
   ]
  },
  {
   "cell_type": "code",
   "execution_count": 33,
   "metadata": {},
   "outputs": [],
   "source": [
    "wordDictA=dict.fromkeys(wordSet,0)\n",
    "wordDictB=dict.fromkeys(wordSet,0)\n"
   ]
  },
  {
   "cell_type": "code",
   "execution_count": 34,
   "metadata": {},
   "outputs": [
    {
     "data": {
      "text/plain": [
       "{'face': 0, 'The': 0, 'bed': 0, 'on': 0, 'sat': 0, 'cat': 0, 'dog': 0, 'my': 0}"
      ]
     },
     "execution_count": 34,
     "metadata": {},
     "output_type": "execute_result"
    }
   ],
   "source": [
    "wordDictA"
   ]
  },
  {
   "cell_type": "code",
   "execution_count": 35,
   "metadata": {},
   "outputs": [],
   "source": [
    "for word in bowA:\n",
    "    wordDictA[word]+=1\n",
    "for word in bowB:\n",
    "    wordDictB[word]+=1"
   ]
  },
  {
   "cell_type": "code",
   "execution_count": 36,
   "metadata": {},
   "outputs": [
    {
     "data": {
      "text/plain": [
       "{'face': 1, 'The': 1, 'bed': 0, 'on': 1, 'sat': 1, 'cat': 1, 'dog': 0, 'my': 1}"
      ]
     },
     "execution_count": 36,
     "metadata": {},
     "output_type": "execute_result"
    }
   ],
   "source": [
    "wordDictA"
   ]
  },
  {
   "cell_type": "code",
   "execution_count": 37,
   "metadata": {},
   "outputs": [
    {
     "data": {
      "text/html": [
       "<div>\n",
       "<style scoped>\n",
       "    .dataframe tbody tr th:only-of-type {\n",
       "        vertical-align: middle;\n",
       "    }\n",
       "\n",
       "    .dataframe tbody tr th {\n",
       "        vertical-align: top;\n",
       "    }\n",
       "\n",
       "    .dataframe thead th {\n",
       "        text-align: right;\n",
       "    }\n",
       "</style>\n",
       "<table border=\"1\" class=\"dataframe\">\n",
       "  <thead>\n",
       "    <tr style=\"text-align: right;\">\n",
       "      <th></th>\n",
       "      <th>The</th>\n",
       "      <th>bed</th>\n",
       "      <th>cat</th>\n",
       "      <th>dog</th>\n",
       "      <th>face</th>\n",
       "      <th>my</th>\n",
       "      <th>on</th>\n",
       "      <th>sat</th>\n",
       "    </tr>\n",
       "  </thead>\n",
       "  <tbody>\n",
       "    <tr>\n",
       "      <th>0</th>\n",
       "      <td>1</td>\n",
       "      <td>0</td>\n",
       "      <td>1</td>\n",
       "      <td>0</td>\n",
       "      <td>1</td>\n",
       "      <td>1</td>\n",
       "      <td>1</td>\n",
       "      <td>1</td>\n",
       "    </tr>\n",
       "    <tr>\n",
       "      <th>1</th>\n",
       "      <td>1</td>\n",
       "      <td>1</td>\n",
       "      <td>0</td>\n",
       "      <td>1</td>\n",
       "      <td>0</td>\n",
       "      <td>1</td>\n",
       "      <td>1</td>\n",
       "      <td>1</td>\n",
       "    </tr>\n",
       "  </tbody>\n",
       "</table>\n",
       "</div>"
      ],
      "text/plain": [
       "   The  bed  cat  dog  face  my  on  sat\n",
       "0    1    0    1    0     1   1   1    1\n",
       "1    1    1    0    1     0   1   1    1"
      ]
     },
     "execution_count": 37,
     "metadata": {},
     "output_type": "execute_result"
    }
   ],
   "source": [
    "import pandas as pd\n",
    "pd.DataFrame([wordDictA,wordDictB])"
   ]
  },
  {
   "cell_type": "code",
   "execution_count": 40,
   "metadata": {},
   "outputs": [],
   "source": [
    "def computeTF(wordDict,bow):\n",
    "    tfDict={}\n",
    "    bowCount=len(bow)\n",
    "    for word,count in wordDict.items():\n",
    "        tfDict[word]=count/float(bowCount)\n",
    "    return tfDict"
   ]
  },
  {
   "cell_type": "code",
   "execution_count": 41,
   "metadata": {},
   "outputs": [],
   "source": [
    "tfBowA=computeTF(wordDictA,bowA)\n",
    "tfBowB=computeTF(wordDictB,bowB)"
   ]
  },
  {
   "cell_type": "code",
   "execution_count": 42,
   "metadata": {},
   "outputs": [
    {
     "data": {
      "text/plain": [
       "{'face': 0.16666666666666666,\n",
       " 'The': 0.16666666666666666,\n",
       " 'bed': 0.0,\n",
       " 'on': 0.16666666666666666,\n",
       " 'sat': 0.16666666666666666,\n",
       " 'cat': 0.16666666666666666,\n",
       " 'dog': 0.0,\n",
       " 'my': 0.16666666666666666}"
      ]
     },
     "execution_count": 42,
     "metadata": {},
     "output_type": "execute_result"
    }
   ],
   "source": [
    "tfBowA"
   ]
  },
  {
   "cell_type": "code",
   "execution_count": 43,
   "metadata": {},
   "outputs": [
    {
     "data": {
      "text/plain": [
       "{'face': 0.0,\n",
       " 'The': 0.16666666666666666,\n",
       " 'bed': 0.16666666666666666,\n",
       " 'on': 0.16666666666666666,\n",
       " 'sat': 0.16666666666666666,\n",
       " 'cat': 0.0,\n",
       " 'dog': 0.16666666666666666,\n",
       " 'my': 0.16666666666666666}"
      ]
     },
     "execution_count": 43,
     "metadata": {},
     "output_type": "execute_result"
    }
   ],
   "source": [
    "tfBowB"
   ]
  },
  {
   "cell_type": "code",
   "execution_count": 44,
   "metadata": {},
   "outputs": [],
   "source": [
    "def computeTDF(docList):\n",
    "    import math\n",
    "    idfdict={}\n",
    "    N=len(docList)\n",
    "\n",
    "    idfDict=dict.fromkeys(docList[0].keys(),0)\n",
    "    for doc in docList:\n",
    "        for word, val in doc.items():\n",
    "            if val>0:\n",
    "                idfDict[word]+=1\n",
    "    for word, val in idfDict.items():\n",
    "        idfDict[word]=math.log10(N/float(val))\n",
    "    return idfDict"
   ]
  },
  {
   "cell_type": "code",
   "execution_count": 48,
   "metadata": {},
   "outputs": [],
   "source": [
    "idfs=computeTDF([wordDictA,wordDictB])"
   ]
  },
  {
   "cell_type": "code",
   "execution_count": 49,
   "metadata": {},
   "outputs": [],
   "source": [
    "def computeTFIDF(tfBow,idfs):\n",
    "    tfidf={}\n",
    "    for word,val in tfBow.items():\n",
    "        tfidf[word]=val*idfs[word]\n",
    "    return tfidf"
   ]
  },
  {
   "cell_type": "code",
   "execution_count": 53,
   "metadata": {},
   "outputs": [],
   "source": [
    "tfidfBowA=computeTFIDF(tfBowA,idfs)\n",
    "tfidfBowB=computeTFIDF(tfBowB,idfs)"
   ]
  },
  {
   "cell_type": "code",
   "execution_count": 54,
   "metadata": {},
   "outputs": [
    {
     "data": {
      "text/html": [
       "<div>\n",
       "<style scoped>\n",
       "    .dataframe tbody tr th:only-of-type {\n",
       "        vertical-align: middle;\n",
       "    }\n",
       "\n",
       "    .dataframe tbody tr th {\n",
       "        vertical-align: top;\n",
       "    }\n",
       "\n",
       "    .dataframe thead th {\n",
       "        text-align: right;\n",
       "    }\n",
       "</style>\n",
       "<table border=\"1\" class=\"dataframe\">\n",
       "  <thead>\n",
       "    <tr style=\"text-align: right;\">\n",
       "      <th></th>\n",
       "      <th>The</th>\n",
       "      <th>bed</th>\n",
       "      <th>cat</th>\n",
       "      <th>dog</th>\n",
       "      <th>face</th>\n",
       "      <th>my</th>\n",
       "      <th>on</th>\n",
       "      <th>sat</th>\n",
       "    </tr>\n",
       "  </thead>\n",
       "  <tbody>\n",
       "    <tr>\n",
       "      <th>0</th>\n",
       "      <td>0.0</td>\n",
       "      <td>0.000000</td>\n",
       "      <td>0.050172</td>\n",
       "      <td>0.000000</td>\n",
       "      <td>0.050172</td>\n",
       "      <td>0.0</td>\n",
       "      <td>0.0</td>\n",
       "      <td>0.0</td>\n",
       "    </tr>\n",
       "    <tr>\n",
       "      <th>1</th>\n",
       "      <td>0.0</td>\n",
       "      <td>0.050172</td>\n",
       "      <td>0.000000</td>\n",
       "      <td>0.050172</td>\n",
       "      <td>0.000000</td>\n",
       "      <td>0.0</td>\n",
       "      <td>0.0</td>\n",
       "      <td>0.0</td>\n",
       "    </tr>\n",
       "  </tbody>\n",
       "</table>\n",
       "</div>"
      ],
      "text/plain": [
       "   The       bed       cat       dog      face   my   on  sat\n",
       "0  0.0  0.000000  0.050172  0.000000  0.050172  0.0  0.0  0.0\n",
       "1  0.0  0.050172  0.000000  0.050172  0.000000  0.0  0.0  0.0"
      ]
     },
     "execution_count": 54,
     "metadata": {},
     "output_type": "execute_result"
    }
   ],
   "source": [
    "import pandas as pd\n",
    "pd.DataFrame([tfidfBowA,tfidfBowB])"
   ]
  },
  {
   "cell_type": "code",
   "execution_count": 55,
   "metadata": {},
   "outputs": [],
   "source": [
    " from sklearn.feature_extraction.text import TfidfVectorizer"
   ]
  },
  {
   "cell_type": "code",
   "execution_count": 56,
   "metadata": {},
   "outputs": [],
   "source": [
    "docA = \"The car is driven on the road\"\n",
    "docB = \"The truck is driven on the highway\""
   ]
  },
  {
   "cell_type": "code",
   "execution_count": 58,
   "metadata": {},
   "outputs": [],
   "source": [
    "tfidf=TfidfVectorizer()"
   ]
  },
  {
   "cell_type": "code",
   "execution_count": 59,
   "metadata": {},
   "outputs": [],
   "source": [
    "response=tfidf.fit_transform([docA,docB])"
   ]
  },
  {
   "cell_type": "code",
   "execution_count": 61,
   "metadata": {},
   "outputs": [
    {
     "name": "stdout",
     "output_type": "stream",
     "text": [
      "the  -  0.6043795515372431\n",
      "car  -  0.42471718586982765\n",
      "is  -  0.30218977576862155\n",
      "driven  -  0.30218977576862155\n",
      "on  -  0.30218977576862155\n",
      "road  -  0.42471718586982765\n",
      "the  -  0.6043795515372431\n",
      "is  -  0.30218977576862155\n",
      "driven  -  0.30218977576862155\n",
      "on  -  0.30218977576862155\n",
      "truck  -  0.0\n",
      "highway  -  0.0\n"
     ]
    }
   ],
   "source": [
    "feature_names=tfidf.get_feature_names()\n",
    "for col in response.nonzero()[1]:\n",
    "    print(feature_names[col],' - ',response[0,col])"
   ]
  },
  {
   "cell_type": "code",
   "execution_count": 66,
   "metadata": {},
   "outputs": [
    {
     "name": "stdout",
     "output_type": "stream",
     "text": [
      "5574\n"
     ]
    }
   ],
   "source": [
    "messages=[line.rstrip() for line in open('SMSSpamCollection')]\n",
    "print(len(messages))"
   ]
  },
  {
   "cell_type": "code",
   "execution_count": 68,
   "metadata": {},
   "outputs": [
    {
     "name": "stdout",
     "output_type": "stream",
     "text": [
      "0 ham\tGo until jurong point, crazy.. Available only in bugis n great world la e buffet... Cine there got amore wat...\n",
      "1 ham\tOk lar... Joking wif u oni...\n",
      "2 spam\tFree entry in 2 a wkly comp to win FA Cup final tkts 21st May 2005. Text FA to 87121 to receive entry question(std txt rate)T&C's apply 08452810075over18's\n",
      "3 ham\tU dun say so early hor... U c already then say...\n",
      "4 ham\tNah I don't think he goes to usf, he lives around here though\n",
      "5 spam\tFreeMsg Hey there darling it's been 3 week's now and no word back! I'd like some fun you up for it still? Tb ok! XxX std chgs to send, Â£1.50 to rcv\n",
      "6 ham\tEven my brother is not like to speak with me. They treat me like aids patent.\n",
      "7 ham\tAs per your request 'Melle Melle (Oru Minnaminunginte Nurungu Vettam)' has been set as your callertune for all Callers. Press *9 to copy your friends Callertune\n",
      "8 spam\tWINNER!! As a valued network customer you have been selected to receivea Â£900 prize reward! To claim call 09061701461. Claim code KL341. Valid 12 hours only.\n",
      "9 spam\tHad your mobile 11 months or more? U R entitled to Update to the latest colour mobiles with camera for Free! Call The Mobile Update Co FREE on 08002986030\n",
      "\n",
      "\n"
     ]
    }
   ],
   "source": [
    "for message_no,message in enumerate(messages[:10]):\n",
    "    print(message_no,message)\n",
    "print('\\n')"
   ]
  },
  {
   "cell_type": "code",
   "execution_count": 69,
   "metadata": {},
   "outputs": [
    {
     "data": {
      "text/html": [
       "<div>\n",
       "<style scoped>\n",
       "    .dataframe tbody tr th:only-of-type {\n",
       "        vertical-align: middle;\n",
       "    }\n",
       "\n",
       "    .dataframe tbody tr th {\n",
       "        vertical-align: top;\n",
       "    }\n",
       "\n",
       "    .dataframe thead th {\n",
       "        text-align: right;\n",
       "    }\n",
       "</style>\n",
       "<table border=\"1\" class=\"dataframe\">\n",
       "  <thead>\n",
       "    <tr style=\"text-align: right;\">\n",
       "      <th></th>\n",
       "      <th>label</th>\n",
       "      <th>message</th>\n",
       "    </tr>\n",
       "  </thead>\n",
       "  <tbody>\n",
       "    <tr>\n",
       "      <th>0</th>\n",
       "      <td>ham\\tGo until jurong point</td>\n",
       "      <td>crazy.. Available only in bugis n great world...</td>\n",
       "    </tr>\n",
       "    <tr>\n",
       "      <th>1</th>\n",
       "      <td>ham\\tOk lar... Joking wif u oni...</td>\n",
       "      <td>NaN</td>\n",
       "    </tr>\n",
       "    <tr>\n",
       "      <th>2</th>\n",
       "      <td>spam\\tFree entry in 2 a wkly comp to win FA Cu...</td>\n",
       "      <td>NaN</td>\n",
       "    </tr>\n",
       "    <tr>\n",
       "      <th>3</th>\n",
       "      <td>ham\\tU dun say so early hor... U c already the...</td>\n",
       "      <td>NaN</td>\n",
       "    </tr>\n",
       "    <tr>\n",
       "      <th>4</th>\n",
       "      <td>ham\\tNah I don't think he goes to usf</td>\n",
       "      <td>he lives around here though</td>\n",
       "    </tr>\n",
       "  </tbody>\n",
       "</table>\n",
       "</div>"
      ],
      "text/plain": [
       "                                               label  \\\n",
       "0                         ham\\tGo until jurong point   \n",
       "1                 ham\\tOk lar... Joking wif u oni...   \n",
       "2  spam\\tFree entry in 2 a wkly comp to win FA Cu...   \n",
       "3  ham\\tU dun say so early hor... U c already the...   \n",
       "4              ham\\tNah I don't think he goes to usf   \n",
       "\n",
       "                                             message  \n",
       "0   crazy.. Available only in bugis n great world...  \n",
       "1                                                NaN  \n",
       "2                                                NaN  \n",
       "3                                                NaN  \n",
       "4                        he lives around here though  "
      ]
     },
     "execution_count": 69,
     "metadata": {},
     "output_type": "execute_result"
    }
   ],
   "source": [
    "message=pd.read_csv('SMSSpamCollection',names=[\"label\",\"message\"])\n",
    "message.head()"
   ]
  },
  {
   "cell_type": "code",
   "execution_count": 71,
   "metadata": {},
   "outputs": [
    {
     "data": {
      "text/html": [
       "<div>\n",
       "<style scoped>\n",
       "    .dataframe tbody tr th:only-of-type {\n",
       "        vertical-align: middle;\n",
       "    }\n",
       "\n",
       "    .dataframe tbody tr th {\n",
       "        vertical-align: top;\n",
       "    }\n",
       "\n",
       "    .dataframe thead th {\n",
       "        text-align: right;\n",
       "    }\n",
       "</style>\n",
       "<table border=\"1\" class=\"dataframe\">\n",
       "  <thead>\n",
       "    <tr style=\"text-align: right;\">\n",
       "      <th></th>\n",
       "      <th>label</th>\n",
       "      <th>message</th>\n",
       "    </tr>\n",
       "  </thead>\n",
       "  <tbody>\n",
       "    <tr>\n",
       "      <th>count</th>\n",
       "      <td>5574</td>\n",
       "      <td>1318</td>\n",
       "    </tr>\n",
       "    <tr>\n",
       "      <th>unique</th>\n",
       "      <td>4969</td>\n",
       "      <td>1153</td>\n",
       "    </tr>\n",
       "    <tr>\n",
       "      <th>top</th>\n",
       "      <td>ham\\tSorry</td>\n",
       "      <td>I'll call later</td>\n",
       "    </tr>\n",
       "    <tr>\n",
       "      <th>freq</th>\n",
       "      <td>52</td>\n",
       "      <td>30</td>\n",
       "    </tr>\n",
       "  </tbody>\n",
       "</table>\n",
       "</div>"
      ],
      "text/plain": [
       "             label           message\n",
       "count         5574              1318\n",
       "unique        4969              1153\n",
       "top     ham\\tSorry   I'll call later\n",
       "freq            52                30"
      ]
     },
     "execution_count": 71,
     "metadata": {},
     "output_type": "execute_result"
    }
   ],
   "source": [
    "message.describe()"
   ]
  },
  {
   "cell_type": "code",
   "execution_count": 73,
   "metadata": {},
   "outputs": [
    {
     "data": {
      "text/html": [
       "<div>\n",
       "<style scoped>\n",
       "    .dataframe tbody tr th:only-of-type {\n",
       "        vertical-align: middle;\n",
       "    }\n",
       "\n",
       "    .dataframe tbody tr th {\n",
       "        vertical-align: top;\n",
       "    }\n",
       "\n",
       "    .dataframe thead tr th {\n",
       "        text-align: left;\n",
       "    }\n",
       "\n",
       "    .dataframe thead tr:last-of-type th {\n",
       "        text-align: right;\n",
       "    }\n",
       "</style>\n",
       "<table border=\"1\" class=\"dataframe\">\n",
       "  <thead>\n",
       "    <tr>\n",
       "      <th></th>\n",
       "      <th colspan=\"4\" halign=\"left\">message</th>\n",
       "    </tr>\n",
       "    <tr>\n",
       "      <th></th>\n",
       "      <th>count</th>\n",
       "      <th>freq</th>\n",
       "      <th>top</th>\n",
       "      <th>unique</th>\n",
       "    </tr>\n",
       "    <tr>\n",
       "      <th>label</th>\n",
       "      <th></th>\n",
       "      <th></th>\n",
       "      <th></th>\n",
       "      <th></th>\n",
       "    </tr>\n",
       "  </thead>\n",
       "  <tbody>\n",
       "    <tr>\n",
       "      <th>ham\\t</th>\n",
       "      <td>4</td>\n",
       "      <td>1</td>\n",
       "      <td>ow u dey.i paid 60</td>\n",
       "      <td>4</td>\n",
       "    </tr>\n",
       "    <tr>\n",
       "      <th>ham\\t &amp;lt;#&amp;gt;  in mca. But not conform.</th>\n",
       "      <td>0</td>\n",
       "      <td>NaN</td>\n",
       "      <td>NaN</td>\n",
       "      <td>0</td>\n",
       "    </tr>\n",
       "    <tr>\n",
       "      <th>ham\\t &amp;lt;#&amp;gt;  mins but i had to stop somewhere first.</th>\n",
       "      <td>0</td>\n",
       "      <td>NaN</td>\n",
       "      <td>NaN</td>\n",
       "      <td>0</td>\n",
       "    </tr>\n",
       "    <tr>\n",
       "      <th>ham\\t &amp;lt;DECIMAL&amp;gt; m but its not a common car here so its better to buy from china or asia. Or if i find it less expensive. I.ll holla</th>\n",
       "      <td>0</td>\n",
       "      <td>NaN</td>\n",
       "      <td>NaN</td>\n",
       "      <td>0</td>\n",
       "    </tr>\n",
       "    <tr>\n",
       "      <th>ham\\t and  picking them up from various points</th>\n",
       "      <td>0</td>\n",
       "      <td>NaN</td>\n",
       "      <td>NaN</td>\n",
       "      <td>0</td>\n",
       "    </tr>\n",
       "    <tr>\n",
       "      <th>ham\\t came to look at the flat</th>\n",
       "      <td>1</td>\n",
       "      <td>1</td>\n",
       "      <td>seems ok</td>\n",
       "      <td>1</td>\n",
       "    </tr>\n",
       "    <tr>\n",
       "      <th>ham\\t gonna let me know cos comes bak from holiday that day.  is coming. Don't4get2text me  number.</th>\n",
       "      <td>0</td>\n",
       "      <td>NaN</td>\n",
       "      <td>NaN</td>\n",
       "      <td>0</td>\n",
       "    </tr>\n",
       "    <tr>\n",
       "      <th>ham\\t said kiss</th>\n",
       "      <td>1</td>\n",
       "      <td>1</td>\n",
       "      <td>kiss</td>\n",
       "      <td>1</td>\n",
       "    </tr>\n",
       "    <tr>\n",
       "      <th>ham\\t says that he's quitting at least5times a day so i wudn't take much notice of that. Nah</th>\n",
       "      <td>1</td>\n",
       "      <td>1</td>\n",
       "      <td>she didn't mind. Are you gonna see him again?...</td>\n",
       "      <td>1</td>\n",
       "    </tr>\n",
       "    <tr>\n",
       "      <th>ham\\t what number do u live at? Is it 11?</th>\n",
       "      <td>0</td>\n",
       "      <td>NaN</td>\n",
       "      <td>NaN</td>\n",
       "      <td>0</td>\n",
       "    </tr>\n",
       "    <tr>\n",
       "      <th>ham\\t\"AH POOR BABY!HOPE URFEELING BETTERSN LUV! PROBTHAT OVERDOSE OF WORK HEY GO CAREFUL SPK 2 U SN LOTS OF LOVEJEN XXX.\"</th>\n",
       "      <td>0</td>\n",
       "      <td>NaN</td>\n",
       "      <td>NaN</td>\n",
       "      <td>0</td>\n",
       "    </tr>\n",
       "    <tr>\n",
       "      <th>ham\\t\"ALRITE HUNNY!WOT U UP 2 2NITE? DIDNT END UP GOIN DOWN TOWN JUS DA PUB INSTEAD! JUS CHILLIN AT DA MO IN ME BEDROOM!LOVE JEN XXX.\"</th>\n",
       "      <td>0</td>\n",
       "      <td>NaN</td>\n",
       "      <td>NaN</td>\n",
       "      <td>0</td>\n",
       "    </tr>\n",
       "    <tr>\n",
       "      <th>ham\\t\"Are you comingdown later?\"</th>\n",
       "      <td>0</td>\n",
       "      <td>NaN</td>\n",
       "      <td>NaN</td>\n",
       "      <td>0</td>\n",
       "    </tr>\n",
       "    <tr>\n",
       "      <th>ham\\t\"Aww you must be nearly dead!Well Jez isComing over toDo some workAnd that whillTake forever!\"</th>\n",
       "      <td>0</td>\n",
       "      <td>NaN</td>\n",
       "      <td>NaN</td>\n",
       "      <td>0</td>\n",
       "    </tr>\n",
       "    <tr>\n",
       "      <th>ham\\t\"BOO BABE! U ENJOYIN YOURJOB? U SEEMED 2 B GETTIN ON WELL HUNNY!HOPE URE OK?TAKE CARE &amp; ILLSPEAK 2U SOONLOTS OF LOVEME XXXX.\"</th>\n",
       "      <td>0</td>\n",
       "      <td>NaN</td>\n",
       "      <td>NaN</td>\n",
       "      <td>0</td>\n",
       "    </tr>\n",
       "    <tr>\n",
       "      <th>ham\\t\"CAN I PLEASE COME UP NOW IMIN TOWN.DONTMATTER IF URGOIN OUTL8R</th>\n",
       "      <td>1</td>\n",
       "      <td>1</td>\n",
       "      <td>JUST REALLYNEED 2DOCD.PLEASE DONTPLEASE DONTIG...</td>\n",
       "      <td>1</td>\n",
       "    </tr>\n",
       "    <tr>\n",
       "      <th>ham\\t\"CHA QUITEAMUZING THATSCOOL BABE</th>\n",
       "      <td>1</td>\n",
       "      <td>1</td>\n",
       "      <td>PROBPOP IN &amp; CU SATTHEN HUNNY 4BREKKIE! LOVE J...</td>\n",
       "      <td>1</td>\n",
       "    </tr>\n",
       "    <tr>\n",
       "      <th>ham\\t\"CHEERS FOR CALLIN BABE.SOZI CULDNT TALKBUT I WANNATELL U DETAILS LATER WENWECAN CHAT PROPERLY X\"</th>\n",
       "      <td>0</td>\n",
       "      <td>NaN</td>\n",
       "      <td>NaN</td>\n",
       "      <td>0</td>\n",
       "    </tr>\n",
       "    <tr>\n",
       "      <th>ham\\t\"CHEERS U TEX MECAUSE U WEREBORED! YEAH OKDEN HUNNY R UIN WK SAT?SOUNDS LIKEYOUR HAVIN GR8FUN J! KEEP UPDAT COUNTINLOTS OF LOVEME XXXXX.\"</th>\n",
       "      <td>0</td>\n",
       "      <td>NaN</td>\n",
       "      <td>NaN</td>\n",
       "      <td>0</td>\n",
       "    </tr>\n",
       "    <tr>\n",
       "      <th>ham\\t\"ER</th>\n",
       "      <td>1</td>\n",
       "      <td>1</td>\n",
       "      <td>ENJOYIN INDIANS AT THE MO..yeP. SaLL gOoD Heh...</td>\n",
       "      <td>1</td>\n",
       "    </tr>\n",
       "    <tr>\n",
       "      <th>ham\\t\"EY! CALM DOWNON THEACUSATIONS.. ITXT U COS IWANA KNOW WOTU R DOIN AT THEW/END... HAVENTCN U IN AGES..RING ME IF UR UP4 NETHING SAT.LOVE J XXX.\"</th>\n",
       "      <td>0</td>\n",
       "      <td>NaN</td>\n",
       "      <td>NaN</td>\n",
       "      <td>0</td>\n",
       "    </tr>\n",
       "    <tr>\n",
       "      <th>ham\\t\"GRAN ONLYFOUND OUT AFEW DAYS AGO.CUSOON HONI\"</th>\n",
       "      <td>0</td>\n",
       "      <td>NaN</td>\n",
       "      <td>NaN</td>\n",
       "      <td>0</td>\n",
       "    </tr>\n",
       "    <tr>\n",
       "      <th>ham\\t\"Getting tickets 4 walsall tue 6 th march. My mate is getting me them on sat. ill pay my treat. Want 2 go. Txt bak .Terry\"</th>\n",
       "      <td>0</td>\n",
       "      <td>NaN</td>\n",
       "      <td>NaN</td>\n",
       "      <td>0</td>\n",
       "    </tr>\n",
       "    <tr>\n",
       "      <th>ham\\t\"Gimme a few\" was  &amp;lt;#&amp;gt;  minutes ago</th>\n",
       "      <td>0</td>\n",
       "      <td>NaN</td>\n",
       "      <td>NaN</td>\n",
       "      <td>0</td>\n",
       "    </tr>\n",
       "    <tr>\n",
       "      <th>ham\\t\"HELLO U.CALL WEN U FINISH WRK.I FANCY MEETIN UP WIV U ALL TONITE AS I NEED A BREAK FROM DABOOKS. DID 4 HRS LAST NITE+2 TODAY OF WRK!\"</th>\n",
       "      <td>0</td>\n",
       "      <td>NaN</td>\n",
       "      <td>NaN</td>\n",
       "      <td>0</td>\n",
       "    </tr>\n",
       "    <tr>\n",
       "      <th>ham\\t\"HEY BABE! FAR 2 SPUN-OUT 2 SPK AT DA MO... DEAD 2 DA WRLD. BEEN SLEEPING ON DA SOFA ALL DAY</th>\n",
       "      <td>1</td>\n",
       "      <td>1</td>\n",
       "      <td>HAD A COOL NYTHO</td>\n",
       "      <td>1</td>\n",
       "    </tr>\n",
       "    <tr>\n",
       "      <th>ham\\t\"HEY DAS COOL... IKNOW ALL 2 WELLDA PERIL OF STUDENTFINANCIAL CRISIS!SPK 2 U L8R.\"</th>\n",
       "      <td>0</td>\n",
       "      <td>NaN</td>\n",
       "      <td>NaN</td>\n",
       "      <td>0</td>\n",
       "    </tr>\n",
       "    <tr>\n",
       "      <th>ham\\t\"HEY HEY WERETHE MONKEESPEOPLE SAY WE MONKEYAROUND! HOWDY GORGEOUS</th>\n",
       "      <td>1</td>\n",
       "      <td>1</td>\n",
       "      <td>HOWU DOIN? FOUNDURSELF A JOBYET SAUSAGE?LOVE ...</td>\n",
       "      <td>1</td>\n",
       "    </tr>\n",
       "    <tr>\n",
       "      <th>ham\\t\"HEY KATE</th>\n",
       "      <td>1</td>\n",
       "      <td>1</td>\n",
       "      <td>HOPE UR OK... WILL GIVE U A BUZ WEDLUNCH. GO ...</td>\n",
       "      <td>1</td>\n",
       "    </tr>\n",
       "    <tr>\n",
       "      <th>ham\\t\"HI BABE UAWAKE?FEELLIKW SHIT.JUSTFOUND OUT VIA ALETTER THATMUM GOTMARRIED 4thNOV.BEHIND OURBACKS  FUCKINNICE!SELFISH</th>\n",
       "      <td>1</td>\n",
       "      <td>1</td>\n",
       "      <td>DEVIOUSBITCH.ANYWAY</td>\n",
       "      <td>1</td>\n",
       "    </tr>\n",
       "    <tr>\n",
       "      <th>...</th>\n",
       "      <td>...</td>\n",
       "      <td>...</td>\n",
       "      <td>...</td>\n",
       "      <td>...</td>\n",
       "    </tr>\n",
       "    <tr>\n",
       "      <th>spam\\taccordingly. I repeat</th>\n",
       "      <td>1</td>\n",
       "      <td>1</td>\n",
       "      <td>just text the word ok on your mobile phone an...</td>\n",
       "      <td>1</td>\n",
       "    </tr>\n",
       "    <tr>\n",
       "      <th>spam\\tall the lastest from Stereophonics</th>\n",
       "      <td>1</td>\n",
       "      <td>1</td>\n",
       "      <td>Marley</td>\n",
       "      <td>1</td>\n",
       "    </tr>\n",
       "    <tr>\n",
       "      <th>spam\\tcmon babe</th>\n",
       "      <td>1</td>\n",
       "      <td>1</td>\n",
       "      <td>make me horny</td>\n",
       "      <td>1</td>\n",
       "    </tr>\n",
       "    <tr>\n",
       "      <th>spam\\tcomplimentary 4 STAR Ibiza Holiday or £10</th>\n",
       "      <td>1</td>\n",
       "      <td>1</td>\n",
       "      <td>000 cash needs your URGENT collection. 0906636...</td>\n",
       "      <td>1</td>\n",
       "    </tr>\n",
       "    <tr>\n",
       "      <th>spam\\tdating:i have had two of these. Only started after i sent a text to talk sport radio last week. Any connection do you think or coincidence?</th>\n",
       "      <td>0</td>\n",
       "      <td>NaN</td>\n",
       "      <td>NaN</td>\n",
       "      <td>0</td>\n",
       "    </tr>\n",
       "    <tr>\n",
       "      <th>spam\\tfrom www.Applausestore.com MonthlySubscription@50p/msg max6/month T&amp;CsC web age16 2stop txt stop</th>\n",
       "      <td>0</td>\n",
       "      <td>NaN</td>\n",
       "      <td>NaN</td>\n",
       "      <td>0</td>\n",
       "    </tr>\n",
       "    <tr>\n",
       "      <th>spam\\tgoldviking (29/M) is inviting you to be his friend. Reply YES-762 or NO-762 See him: www.SMS.ac/u/goldviking STOP? Send STOP FRND to 62468</th>\n",
       "      <td>0</td>\n",
       "      <td>NaN</td>\n",
       "      <td>NaN</td>\n",
       "      <td>0</td>\n",
       "    </tr>\n",
       "    <tr>\n",
       "      <th>spam\\thttp//tms. widelive.com/index. wml?id=820554ad0a1705572711&amp;first=true¡C C Ringtone¡</th>\n",
       "      <td>0</td>\n",
       "      <td>NaN</td>\n",
       "      <td>NaN</td>\n",
       "      <td>0</td>\n",
       "    </tr>\n",
       "    <tr>\n",
       "      <th>spam\\timportant information 4 orange user . today is your lucky day!2find out why log onto http://www.urawinner.com THERE'S A FANTASTIC SURPRISE AWAITING YOU!</th>\n",
       "      <td>0</td>\n",
       "      <td>NaN</td>\n",
       "      <td>NaN</td>\n",
       "      <td>0</td>\n",
       "    </tr>\n",
       "    <tr>\n",
       "      <th>spam\\timportant information 4 orange user 0789xxxxxxx. today is your lucky day!2find out why log onto http://www.urawinner.com THERE'S A FANTASTIC SURPRISE AWAITING YOU!</th>\n",
       "      <td>0</td>\n",
       "      <td>NaN</td>\n",
       "      <td>NaN</td>\n",
       "      <td>0</td>\n",
       "    </tr>\n",
       "    <tr>\n",
       "      <th>spam\\tit to 80488. Your 500 free text messages are valid until 31 December 2005.</th>\n",
       "      <td>0</td>\n",
       "      <td>NaN</td>\n",
       "      <td>NaN</td>\n",
       "      <td>0</td>\n",
       "    </tr>\n",
       "    <tr>\n",
       "      <th>spam\\tlyricalladie(21/F) is inviting you to be her friend. Reply YES-910 or NO-910. See her: www.SMS.ac/u/hmmross STOP? Send STOP FRND to 62468</th>\n",
       "      <td>0</td>\n",
       "      <td>NaN</td>\n",
       "      <td>NaN</td>\n",
       "      <td>0</td>\n",
       "    </tr>\n",
       "    <tr>\n",
       "      <th>spam\\tmoney!!! you r a lucky winner ! 2 claim your prize text money 2 88600 over £1million to give away ! ppt150x3+normal text rate box403 w1t1jy</th>\n",
       "      <td>0</td>\n",
       "      <td>NaN</td>\n",
       "      <td>NaN</td>\n",
       "      <td>0</td>\n",
       "    </tr>\n",
       "    <tr>\n",
       "      <th>spam\\tnetwork operator. The service is free. For T &amp; C's visit 80488.biz</th>\n",
       "      <td>0</td>\n",
       "      <td>NaN</td>\n",
       "      <td>NaN</td>\n",
       "      <td>0</td>\n",
       "    </tr>\n",
       "    <tr>\n",
       "      <th>spam\\tokmail: Dear Dave this is your final notice to collect your 4* Tenerife Holiday or #5000 CASH award! Call 09061743806 from landline. TCs SAE Box326 CW25WX 150ppm</th>\n",
       "      <td>0</td>\n",
       "      <td>NaN</td>\n",
       "      <td>NaN</td>\n",
       "      <td>0</td>\n",
       "    </tr>\n",
       "    <tr>\n",
       "      <th>spam\\tou are guaranteed the latest Nokia Phone</th>\n",
       "      <td>1</td>\n",
       "      <td>1</td>\n",
       "      <td>a 40GB iPod MP3 player or a £500 prize! Txt w...</td>\n",
       "      <td>1</td>\n",
       "    </tr>\n",
       "    <tr>\n",
       "      <th>spam\\tour mobile number has won £5000</th>\n",
       "      <td>1</td>\n",
       "      <td>1</td>\n",
       "      <td>to claim calls us back or ring the claims hot...</td>\n",
       "      <td>1</td>\n",
       "    </tr>\n",
       "    <tr>\n",
       "      <th>spam\\tpdate_Now - Double mins and 1000 txts on Orange tariffs. Latest Motorola</th>\n",
       "      <td>1</td>\n",
       "      <td>1</td>\n",
       "      <td>SonyEricsson &amp; Nokia &amp; Bluetooth FREE! Call M...</td>\n",
       "      <td>1</td>\n",
       "    </tr>\n",
       "    <tr>\n",
       "      <th>spam\\tree entry in 2 a weekly comp for a chance to win an ipod. Txt POD to 80182 to get entry (std txt rate) T&amp;C's apply 08452810073 for details 18+</th>\n",
       "      <td>0</td>\n",
       "      <td>NaN</td>\n",
       "      <td>NaN</td>\n",
       "      <td>0</td>\n",
       "    </tr>\n",
       "    <tr>\n",
       "      <th>spam\\tringtoneking 84484</th>\n",
       "      <td>0</td>\n",
       "      <td>NaN</td>\n",
       "      <td>NaN</td>\n",
       "      <td>0</td>\n",
       "    </tr>\n",
       "    <tr>\n",
       "      <th>spam\\tsexy sexy cum and text me im wet and warm and ready for some porn! u up for some fun? THIS MSG IS FREE RECD MSGS 150P INC VAT 2 CANCEL TEXT STOP</th>\n",
       "      <td>0</td>\n",
       "      <td>NaN</td>\n",
       "      <td>NaN</td>\n",
       "      <td>0</td>\n",
       "    </tr>\n",
       "    <tr>\n",
       "      <th>spam\\tsports fans - get the latest sports news str* 2 ur mobile 1 wk FREE PLUS a FREE TONE Txt SPORT ON to 8007 www.getzed.co.uk 0870141701216+ norm 4txt/120p</th>\n",
       "      <td>0</td>\n",
       "      <td>NaN</td>\n",
       "      <td>NaN</td>\n",
       "      <td>0</td>\n",
       "    </tr>\n",
       "    <tr>\n",
       "      <th>spam\\ttddnewsletter@emc1.co.uk (More games from TheDailyDraw) Dear Helen</th>\n",
       "      <td>1</td>\n",
       "      <td>1</td>\n",
       "      <td>Dozens of Free Games - with great prizesWith..</td>\n",
       "      <td>1</td>\n",
       "    </tr>\n",
       "    <tr>\n",
       "      <th>spam\\ttells u 2 call 09066358152 to claim £5000 prize. U have 2 enter all ur mobile &amp; personal details @ the prompts. Careful!</th>\n",
       "      <td>0</td>\n",
       "      <td>NaN</td>\n",
       "      <td>NaN</td>\n",
       "      <td>0</td>\n",
       "    </tr>\n",
       "    <tr>\n",
       "      <th>spam\\tthesmszone.com lets you send free anonymous and masked messages..im sending this message from there..do you see the potential for abuse???</th>\n",
       "      <td>0</td>\n",
       "      <td>NaN</td>\n",
       "      <td>NaN</td>\n",
       "      <td>0</td>\n",
       "    </tr>\n",
       "    <tr>\n",
       "      <th>spam\\ttodays vodafone numbers ending with 0089(my last four digits) are selected to received a £350 award. If your number matches please call 09063442151 to claim your £350 award</th>\n",
       "      <td>0</td>\n",
       "      <td>NaN</td>\n",
       "      <td>NaN</td>\n",
       "      <td>0</td>\n",
       "    </tr>\n",
       "    <tr>\n",
       "      <th>spam\\tu r a winner U ave been specially selected 2 receive £1000 cash or a 4* holiday (flights inc) speak to a live operator 2 claim 0871277810710p/min (18 )</th>\n",
       "      <td>0</td>\n",
       "      <td>NaN</td>\n",
       "      <td>NaN</td>\n",
       "      <td>0</td>\n",
       "    </tr>\n",
       "    <tr>\n",
       "      <th>spam\\tu r subscribed 2 TEXTCOMP 250 wkly comp. 1st wk?s free question follows</th>\n",
       "      <td>1</td>\n",
       "      <td>1</td>\n",
       "      <td>subsequent wks charged@150p/msg.2 unsubscribe...</td>\n",
       "      <td>1</td>\n",
       "    </tr>\n",
       "    <tr>\n",
       "      <th>spam\\twamma get laid?want real doggin locations sent direct to your mobile? join the UKs largest dogging network. txt dogs to 69696 now!nyt. ec2a. 3lp £1.50/msg.</th>\n",
       "      <td>0</td>\n",
       "      <td>NaN</td>\n",
       "      <td>NaN</td>\n",
       "      <td>0</td>\n",
       "    </tr>\n",
       "    <tr>\n",
       "      <th>spam\\twe tried to contact you re your response to our offer of a new nokia fone and camcorder hit reply or call 08000930705 for delivery</th>\n",
       "      <td>0</td>\n",
       "      <td>NaN</td>\n",
       "      <td>NaN</td>\n",
       "      <td>0</td>\n",
       "    </tr>\n",
       "  </tbody>\n",
       "</table>\n",
       "<p>4969 rows × 4 columns</p>\n",
       "</div>"
      ],
      "text/plain": [
       "                                                   message       \\\n",
       "                                                     count freq   \n",
       "label                                                             \n",
       "ham\\t                                                    4    1   \n",
       "ham\\t &lt;#&gt;  in mca. But not conform.                0  NaN   \n",
       "ham\\t &lt;#&gt;  mins but i had to stop somewhe...       0  NaN   \n",
       "ham\\t &lt;DECIMAL&gt; m but its not a common ca...       0  NaN   \n",
       "ham\\t and  picking them up from various points           0  NaN   \n",
       "ham\\t came to look at the flat                           1    1   \n",
       "ham\\t gonna let me know cos comes bak from holi...       0  NaN   \n",
       "ham\\t said kiss                                          1    1   \n",
       "ham\\t says that he's quitting at least5times a ...       1    1   \n",
       "ham\\t what number do u live at? Is it 11?                0  NaN   \n",
       "ham\\t\"AH POOR BABY!HOPE URFEELING BETTERSN LUV!...       0  NaN   \n",
       "ham\\t\"ALRITE HUNNY!WOT U UP 2 2NITE? DIDNT END ...       0  NaN   \n",
       "ham\\t\"Are you comingdown later?\"                         0  NaN   \n",
       "ham\\t\"Aww you must be nearly dead!Well Jez isCo...       0  NaN   \n",
       "ham\\t\"BOO BABE! U ENJOYIN YOURJOB? U SEEMED 2 B...       0  NaN   \n",
       "ham\\t\"CAN I PLEASE COME UP NOW IMIN TOWN.DONTMA...       1    1   \n",
       "ham\\t\"CHA QUITEAMUZING THATSCOOL BABE                   1    1   \n",
       "ham\\t\"CHEERS FOR CALLIN BABE.SOZI CULDNT TALKBU...       0  NaN   \n",
       "ham\\t\"CHEERS U TEX MECAUSE U WEREBORED! YEAH OK...       0  NaN   \n",
       "ham\\t\"ER                                                 1    1   \n",
       "ham\\t\"EY! CALM DOWNON THEACUSATIONS.. ITXT U CO...       0  NaN   \n",
       "ham\\t\"GRAN ONLYFOUND OUT AFEW DAYS AGO.CUSOON H...       0  NaN   \n",
       "ham\\t\"Getting tickets 4 walsall tue 6 th march....       0  NaN   \n",
       "ham\\t\"Gimme a few\" was  &lt;#&gt;  minutes ago           0  NaN   \n",
       "ham\\t\"HELLO U.CALL WEN U FINISH WRK.I FANCY MEE...       0  NaN   \n",
       "ham\\t\"HEY BABE! FAR 2 SPUN-OUT 2 SPK AT DA MO.....       1    1   \n",
       "ham\\t\"HEY DAS COOL... IKNOW ALL 2 WELLDA PERIL ...       0  NaN   \n",
       "ham\\t\"HEY HEY WERETHE MONKEESPEOPLE SAY WE MONK...       1    1   \n",
       "ham\\t\"HEY KATE                                           1    1   \n",
       "ham\\t\"HI BABE UAWAKE?FEELLIKW SHIT.JUSTFOUND OU...       1    1   \n",
       "...                                                    ...  ...   \n",
       "spam\\taccordingly. I repeat                              1    1   \n",
       "spam\\tall the lastest from Stereophonics                 1    1   \n",
       "spam\\tcmon babe                                          1    1   \n",
       "spam\\tcomplimentary 4 STAR Ibiza Holiday or £10          1    1   \n",
       "spam\\tdating:i have had two of these. Only star...       0  NaN   \n",
       "spam\\tfrom www.Applausestore.com MonthlySubscri...       0  NaN   \n",
       "spam\\tgoldviking (29/M) is inviting you to be h...       0  NaN   \n",
       "spam\\thttp//tms. widelive.com/index. wml?id=820...       0  NaN   \n",
       "spam\\timportant information 4 orange user . tod...       0  NaN   \n",
       "spam\\timportant information 4 orange user 0789x...       0  NaN   \n",
       "spam\\tit to 80488. Your 500 free text messages ...       0  NaN   \n",
       "spam\\tlyricalladie(21/F) is inviting you to be ...       0  NaN   \n",
       "spam\\tmoney!!! you r a lucky winner ! 2 claim y...       0  NaN   \n",
       "spam\\tnetwork operator. The service is free. Fo...       0  NaN   \n",
       "spam\\tokmail: Dear Dave this is your final noti...       0  NaN   \n",
       "spam\\tou are guaranteed the latest Nokia Phone           1    1   \n",
       "spam\\tour mobile number has won £5000                    1    1   \n",
       "spam\\tpdate_Now - Double mins and 1000 txts on ...       1    1   \n",
       "spam\\tree entry in 2 a weekly comp for a chance...       0  NaN   \n",
       "spam\\tringtoneking 84484                                 0  NaN   \n",
       "spam\\tsexy sexy cum and text me im wet and warm...       0  NaN   \n",
       "spam\\tsports fans - get the latest sports news ...       0  NaN   \n",
       "spam\\ttddnewsletter@emc1.co.uk (More games from...       1    1   \n",
       "spam\\ttells u 2 call 09066358152 to claim £5000...       0  NaN   \n",
       "spam\\tthesmszone.com lets you send free anonymo...       0  NaN   \n",
       "spam\\ttodays vodafone numbers ending with 0089(...       0  NaN   \n",
       "spam\\tu r a winner U ave been specially selecte...       0  NaN   \n",
       "spam\\tu r subscribed 2 TEXTCOMP 250 wkly comp. ...       1    1   \n",
       "spam\\twamma get laid?want real doggin locations...       0  NaN   \n",
       "spam\\twe tried to contact you re your response ...       0  NaN   \n",
       "\n",
       "                                                                                                       \\\n",
       "                                                                                                  top   \n",
       "label                                                                                                   \n",
       "ham\\t                                                                              ow u dey.i paid 60   \n",
       "ham\\t &lt;#&gt;  in mca. But not conform.                                                         NaN   \n",
       "ham\\t &lt;#&gt;  mins but i had to stop somewhe...                                                NaN   \n",
       "ham\\t &lt;DECIMAL&gt; m but its not a common ca...                                                NaN   \n",
       "ham\\t and  picking them up from various points                                                    NaN   \n",
       "ham\\t came to look at the flat                                                               seems ok   \n",
       "ham\\t gonna let me know cos comes bak from holi...                                                NaN   \n",
       "ham\\t said kiss                                                                                  kiss   \n",
       "ham\\t says that he's quitting at least5times a ...   she didn't mind. Are you gonna see him again?...   \n",
       "ham\\t what number do u live at? Is it 11?                                                         NaN   \n",
       "ham\\t\"AH POOR BABY!HOPE URFEELING BETTERSN LUV!...                                                NaN   \n",
       "ham\\t\"ALRITE HUNNY!WOT U UP 2 2NITE? DIDNT END ...                                                NaN   \n",
       "ham\\t\"Are you comingdown later?\"                                                                  NaN   \n",
       "ham\\t\"Aww you must be nearly dead!Well Jez isCo...                                                NaN   \n",
       "ham\\t\"BOO BABE! U ENJOYIN YOURJOB? U SEEMED 2 B...                                                NaN   \n",
       "ham\\t\"CAN I PLEASE COME UP NOW IMIN TOWN.DONTMA...  JUST REALLYNEED 2DOCD.PLEASE DONTPLEASE DONTIG...   \n",
       "ham\\t\"CHA QUITEAMUZING THATSCOOL BABE              PROBPOP IN & CU SATTHEN HUNNY 4BREKKIE! LOVE J...   \n",
       "ham\\t\"CHEERS FOR CALLIN BABE.SOZI CULDNT TALKBU...                                                NaN   \n",
       "ham\\t\"CHEERS U TEX MECAUSE U WEREBORED! YEAH OK...                                                NaN   \n",
       "ham\\t\"ER                                             ENJOYIN INDIANS AT THE MO..yeP. SaLL gOoD Heh...   \n",
       "ham\\t\"EY! CALM DOWNON THEACUSATIONS.. ITXT U CO...                                                NaN   \n",
       "ham\\t\"GRAN ONLYFOUND OUT AFEW DAYS AGO.CUSOON H...                                                NaN   \n",
       "ham\\t\"Getting tickets 4 walsall tue 6 th march....                                                NaN   \n",
       "ham\\t\"Gimme a few\" was  &lt;#&gt;  minutes ago                                                    NaN   \n",
       "ham\\t\"HELLO U.CALL WEN U FINISH WRK.I FANCY MEE...                                                NaN   \n",
       "ham\\t\"HEY BABE! FAR 2 SPUN-OUT 2 SPK AT DA MO.....                                   HAD A COOL NYTHO   \n",
       "ham\\t\"HEY DAS COOL... IKNOW ALL 2 WELLDA PERIL ...                                                NaN   \n",
       "ham\\t\"HEY HEY WERETHE MONKEESPEOPLE SAY WE MONK...   HOWU DOIN? FOUNDURSELF A JOBYET SAUSAGE?LOVE ...   \n",
       "ham\\t\"HEY KATE                                       HOPE UR OK... WILL GIVE U A BUZ WEDLUNCH. GO ...   \n",
       "ham\\t\"HI BABE UAWAKE?FEELLIKW SHIT.JUSTFOUND OU...                                DEVIOUSBITCH.ANYWAY   \n",
       "...                                                                                               ...   \n",
       "spam\\taccordingly. I repeat                          just text the word ok on your mobile phone an...   \n",
       "spam\\tall the lastest from Stereophonics                                                       Marley   \n",
       "spam\\tcmon babe                                                                         make me horny   \n",
       "spam\\tcomplimentary 4 STAR Ibiza Holiday or £10     000 cash needs your URGENT collection. 0906636...   \n",
       "spam\\tdating:i have had two of these. Only star...                                                NaN   \n",
       "spam\\tfrom www.Applausestore.com MonthlySubscri...                                                NaN   \n",
       "spam\\tgoldviking (29/M) is inviting you to be h...                                                NaN   \n",
       "spam\\thttp//tms. widelive.com/index. wml?id=820...                                                NaN   \n",
       "spam\\timportant information 4 orange user . tod...                                                NaN   \n",
       "spam\\timportant information 4 orange user 0789x...                                                NaN   \n",
       "spam\\tit to 80488. Your 500 free text messages ...                                                NaN   \n",
       "spam\\tlyricalladie(21/F) is inviting you to be ...                                                NaN   \n",
       "spam\\tmoney!!! you r a lucky winner ! 2 claim y...                                                NaN   \n",
       "spam\\tnetwork operator. The service is free. Fo...                                                NaN   \n",
       "spam\\tokmail: Dear Dave this is your final noti...                                                NaN   \n",
       "spam\\tou are guaranteed the latest Nokia Phone       a 40GB iPod MP3 player or a £500 prize! Txt w...   \n",
       "spam\\tour mobile number has won £5000                to claim calls us back or ring the claims hot...   \n",
       "spam\\tpdate_Now - Double mins and 1000 txts on ...   SonyEricsson & Nokia & Bluetooth FREE! Call M...   \n",
       "spam\\tree entry in 2 a weekly comp for a chance...                                                NaN   \n",
       "spam\\tringtoneking 84484                                                                          NaN   \n",
       "spam\\tsexy sexy cum and text me im wet and warm...                                                NaN   \n",
       "spam\\tsports fans - get the latest sports news ...                                                NaN   \n",
       "spam\\ttddnewsletter@emc1.co.uk (More games from...     Dozens of Free Games - with great prizesWith..   \n",
       "spam\\ttells u 2 call 09066358152 to claim £5000...                                                NaN   \n",
       "spam\\tthesmszone.com lets you send free anonymo...                                                NaN   \n",
       "spam\\ttodays vodafone numbers ending with 0089(...                                                NaN   \n",
       "spam\\tu r a winner U ave been specially selecte...                                                NaN   \n",
       "spam\\tu r subscribed 2 TEXTCOMP 250 wkly comp. ...   subsequent wks charged@150p/msg.2 unsubscribe...   \n",
       "spam\\twamma get laid?want real doggin locations...                                                NaN   \n",
       "spam\\twe tried to contact you re your response ...                                                NaN   \n",
       "\n",
       "                                                           \n",
       "                                                   unique  \n",
       "label                                                      \n",
       "ham\\t                                                   4  \n",
       "ham\\t &lt;#&gt;  in mca. But not conform.               0  \n",
       "ham\\t &lt;#&gt;  mins but i had to stop somewhe...      0  \n",
       "ham\\t &lt;DECIMAL&gt; m but its not a common ca...      0  \n",
       "ham\\t and  picking them up from various points          0  \n",
       "ham\\t came to look at the flat                          1  \n",
       "ham\\t gonna let me know cos comes bak from holi...      0  \n",
       "ham\\t said kiss                                         1  \n",
       "ham\\t says that he's quitting at least5times a ...      1  \n",
       "ham\\t what number do u live at? Is it 11?               0  \n",
       "ham\\t\"AH POOR BABY!HOPE URFEELING BETTERSN LUV!...      0  \n",
       "ham\\t\"ALRITE HUNNY!WOT U UP 2 2NITE? DIDNT END ...      0  \n",
       "ham\\t\"Are you comingdown later?\"                        0  \n",
       "ham\\t\"Aww you must be nearly dead!Well Jez isCo...      0  \n",
       "ham\\t\"BOO BABE! U ENJOYIN YOURJOB? U SEEMED 2 B...      0  \n",
       "ham\\t\"CAN I PLEASE COME UP NOW IMIN TOWN.DONTMA...      1  \n",
       "ham\\t\"CHA QUITEAMUZING THATSCOOL BABE                  1  \n",
       "ham\\t\"CHEERS FOR CALLIN BABE.SOZI CULDNT TALKBU...      0  \n",
       "ham\\t\"CHEERS U TEX MECAUSE U WEREBORED! YEAH OK...      0  \n",
       "ham\\t\"ER                                                1  \n",
       "ham\\t\"EY! CALM DOWNON THEACUSATIONS.. ITXT U CO...      0  \n",
       "ham\\t\"GRAN ONLYFOUND OUT AFEW DAYS AGO.CUSOON H...      0  \n",
       "ham\\t\"Getting tickets 4 walsall tue 6 th march....      0  \n",
       "ham\\t\"Gimme a few\" was  &lt;#&gt;  minutes ago          0  \n",
       "ham\\t\"HELLO U.CALL WEN U FINISH WRK.I FANCY MEE...      0  \n",
       "ham\\t\"HEY BABE! FAR 2 SPUN-OUT 2 SPK AT DA MO.....      1  \n",
       "ham\\t\"HEY DAS COOL... IKNOW ALL 2 WELLDA PERIL ...      0  \n",
       "ham\\t\"HEY HEY WERETHE MONKEESPEOPLE SAY WE MONK...      1  \n",
       "ham\\t\"HEY KATE                                          1  \n",
       "ham\\t\"HI BABE UAWAKE?FEELLIKW SHIT.JUSTFOUND OU...      1  \n",
       "...                                                   ...  \n",
       "spam\\taccordingly. I repeat                             1  \n",
       "spam\\tall the lastest from Stereophonics                1  \n",
       "spam\\tcmon babe                                         1  \n",
       "spam\\tcomplimentary 4 STAR Ibiza Holiday or £10         1  \n",
       "spam\\tdating:i have had two of these. Only star...      0  \n",
       "spam\\tfrom www.Applausestore.com MonthlySubscri...      0  \n",
       "spam\\tgoldviking (29/M) is inviting you to be h...      0  \n",
       "spam\\thttp//tms. widelive.com/index. wml?id=820...      0  \n",
       "spam\\timportant information 4 orange user . tod...      0  \n",
       "spam\\timportant information 4 orange user 0789x...      0  \n",
       "spam\\tit to 80488. Your 500 free text messages ...      0  \n",
       "spam\\tlyricalladie(21/F) is inviting you to be ...      0  \n",
       "spam\\tmoney!!! you r a lucky winner ! 2 claim y...      0  \n",
       "spam\\tnetwork operator. The service is free. Fo...      0  \n",
       "spam\\tokmail: Dear Dave this is your final noti...      0  \n",
       "spam\\tou are guaranteed the latest Nokia Phone          1  \n",
       "spam\\tour mobile number has won £5000                   1  \n",
       "spam\\tpdate_Now - Double mins and 1000 txts on ...      1  \n",
       "spam\\tree entry in 2 a weekly comp for a chance...      0  \n",
       "spam\\tringtoneking 84484                                0  \n",
       "spam\\tsexy sexy cum and text me im wet and warm...      0  \n",
       "spam\\tsports fans - get the latest sports news ...      0  \n",
       "spam\\ttddnewsletter@emc1.co.uk (More games from...      1  \n",
       "spam\\ttells u 2 call 09066358152 to claim £5000...      0  \n",
       "spam\\tthesmszone.com lets you send free anonymo...      0  \n",
       "spam\\ttodays vodafone numbers ending with 0089(...      0  \n",
       "spam\\tu r a winner U ave been specially selecte...      0  \n",
       "spam\\tu r subscribed 2 TEXTCOMP 250 wkly comp. ...      1  \n",
       "spam\\twamma get laid?want real doggin locations...      0  \n",
       "spam\\twe tried to contact you re your response ...      0  \n",
       "\n",
       "[4969 rows x 4 columns]"
      ]
     },
     "execution_count": 73,
     "metadata": {},
     "output_type": "execute_result"
    }
   ],
   "source": [
    "message.groupby('label').describe()"
   ]
  },
  {
   "cell_type": "code",
   "execution_count": 75,
   "metadata": {},
   "outputs": [
    {
     "data": {
      "text/html": [
       "<div>\n",
       "<style scoped>\n",
       "    .dataframe tbody tr th:only-of-type {\n",
       "        vertical-align: middle;\n",
       "    }\n",
       "\n",
       "    .dataframe tbody tr th {\n",
       "        vertical-align: top;\n",
       "    }\n",
       "\n",
       "    .dataframe thead th {\n",
       "        text-align: right;\n",
       "    }\n",
       "</style>\n",
       "<table border=\"1\" class=\"dataframe\">\n",
       "  <thead>\n",
       "    <tr style=\"text-align: right;\">\n",
       "      <th></th>\n",
       "      <th>label</th>\n",
       "      <th>message</th>\n",
       "      <th>length</th>\n",
       "    </tr>\n",
       "  </thead>\n",
       "  <tbody>\n",
       "    <tr>\n",
       "      <th>0</th>\n",
       "      <td>ham</td>\n",
       "      <td>Go until jurong point, crazy.. Available only ...</td>\n",
       "      <td>111</td>\n",
       "    </tr>\n",
       "    <tr>\n",
       "      <th>1</th>\n",
       "      <td>ham</td>\n",
       "      <td>Ok lar... Joking wif u oni...</td>\n",
       "      <td>29</td>\n",
       "    </tr>\n",
       "    <tr>\n",
       "      <th>2</th>\n",
       "      <td>spam</td>\n",
       "      <td>Free entry in 2 a wkly comp to win FA Cup fina...</td>\n",
       "      <td>155</td>\n",
       "    </tr>\n",
       "    <tr>\n",
       "      <th>3</th>\n",
       "      <td>ham</td>\n",
       "      <td>U dun say so early hor... U c already then say...</td>\n",
       "      <td>49</td>\n",
       "    </tr>\n",
       "    <tr>\n",
       "      <th>4</th>\n",
       "      <td>ham</td>\n",
       "      <td>Nah I don't think he goes to usf, he lives aro...</td>\n",
       "      <td>61</td>\n",
       "    </tr>\n",
       "  </tbody>\n",
       "</table>\n",
       "</div>"
      ],
      "text/plain": [
       "  label                                            message  length\n",
       "0   ham  Go until jurong point, crazy.. Available only ...     111\n",
       "1   ham                      Ok lar... Joking wif u oni...      29\n",
       "2  spam  Free entry in 2 a wkly comp to win FA Cup fina...     155\n",
       "3   ham  U dun say so early hor... U c already then say...      49\n",
       "4   ham  Nah I don't think he goes to usf, he lives aro...      61"
      ]
     },
     "execution_count": 75,
     "metadata": {},
     "output_type": "execute_result"
    }
   ],
   "source": [
    "\n",
    "message = pd.read_csv('SMSSpamCollection', names=['label', 'message'], sep='\\t')\n",
    "message['length']=message['message'].apply(len)\n",
    "message.head()"
   ]
  },
  {
   "cell_type": "code",
   "execution_count": 76,
   "metadata": {},
   "outputs": [],
   "source": [
    "import matplotlib.pyplot as plt\n",
    "import seaborn as sns\n",
    "%matplotlib inline"
   ]
  },
  {
   "cell_type": "code",
   "execution_count": 78,
   "metadata": {},
   "outputs": [
    {
     "data": {
      "text/plain": [
       "<matplotlib.axes._subplots.AxesSubplot at 0x24952862dd8>"
      ]
     },
     "execution_count": 78,
     "metadata": {},
     "output_type": "execute_result"
    },
    {
     "data": {
      "image/png": "[encoded data removed]",
      "text/plain": [
       "<Figure size 432x288 with 1 Axes>"
      ]
     },
     "metadata": {
      "needs_background": "light"
     },
     "output_type": "display_data"
    }
   ],
   "source": [
    "message['length'].plot(bins=50,kind='hist')"
   ]
  },
  {
   "cell_type": "code",
   "execution_count": 79,
   "metadata": {},
   "outputs": [
    {
     "data": {
      "text/plain": [
       "count    5572.000000\n",
       "mean       80.489950\n",
       "std        59.942907\n",
       "min         2.000000\n",
       "25%        36.000000\n",
       "50%        62.000000\n",
       "75%       122.000000\n",
       "max       910.000000\n",
       "Name: length, dtype: float64"
      ]
     },
     "execution_count": 79,
     "metadata": {},
     "output_type": "execute_result"
    }
   ],
   "source": [
    "message.length.describe()"
   ]
  },
  {
   "cell_type": "code",
   "execution_count": 80,
   "metadata": {},
   "outputs": [
    {
     "data": {
      "text/plain": [
       "\"For me the love should start with attraction.i should feel that I need her every time around me.she should be the first thing which comes in my thoughts.I would start the day and end it with her.she should be there every time I dream.love will be then when my every breath has her name.my life should happen around her.my life will be named to her.I would cry for her.will give all my happiness and take all her sorrows.I will be ready to fight with anyone for her.I will be in love when I will be doing the craziest things for her.love will be when I don't have to proove anyone that my girl is the most beautiful lady on the whole planet.I will always be singing praises for her.love will be when I start up making chicken curry and end up makiing sambar.life will be the most beautiful then.will get every morning and thank god for the day because she is with me.I would like to say a lot..will tell later..\""
      ]
     },
     "execution_count": 80,
     "metadata": {},
     "output_type": "execute_result"
    }
   ],
   "source": [
    "message[message['length']==910]['message'].iloc[0]"
   ]
  },
  {
   "cell_type": "code",
   "execution_count": 81,
   "metadata": {},
   "outputs": [
    {
     "data": {
      "text/plain": [
       "array([<matplotlib.axes._subplots.AxesSubplot object at 0x0000024951B44048>,\n",
       "       <matplotlib.axes._subplots.AxesSubplot object at 0x0000024951D4ABA8>],\n",
       "      dtype=object)"
      ]
     },
     "execution_count": 81,
     "metadata": {},
     "output_type": "execute_result"
    },
    {
     "data": {
      "image/png": "[encoded data removed]",
      "text/plain": [
       "<Figure size 864x288 with 2 Axes>"
      ]
     },
     "metadata": {
      "needs_background": "light"
     },
     "output_type": "display_data"
    }
   ],
   "source": [
    "message.hist(column='length',by='label',bins=50,figsize=(12,4))"
   ]
  },
  {
   "cell_type": "code",
   "execution_count": 82,
   "metadata": {},
   "outputs": [],
   "source": [
    "import string"
   ]
  },
  {
   "cell_type": "code",
   "execution_count": 83,
   "metadata": {},
   "outputs": [],
   "source": [
    "mess = 'Sample message! Notice: it has punctuation.'"
   ]
  },
  {
   "cell_type": "code",
   "execution_count": 84,
   "metadata": {},
   "outputs": [],
   "source": [
    "nopunc=[char for char in mess if char not in string.punctuation]\n",
    "nopunc=''.join(nopunc)"
   ]
  },
  {
   "cell_type": "code",
   "execution_count": 85,
   "metadata": {},
   "outputs": [
    {
     "data": {
      "text/plain": [
       "['i', 'me', 'my', 'myself', 'we', 'our', 'ours', 'ourselves', 'you', \"you're\"]"
      ]
     },
     "execution_count": 85,
     "metadata": {},
     "output_type": "execute_result"
    }
   ],
   "source": [
    "from nltk.corpus import stopwords\n",
    "stopwords.words('english')[0:10]"
   ]
  },
  {
   "cell_type": "code",
   "execution_count": 86,
   "metadata": {},
   "outputs": [
    {
     "data": {
      "text/plain": [
       "['Sample', 'message', 'Notice', 'it', 'has', 'punctuation']"
      ]
     },
     "execution_count": 86,
     "metadata": {},
     "output_type": "execute_result"
    }
   ],
   "source": [
    "nopunc.split()"
   ]
  },
  {
   "cell_type": "code",
   "execution_count": 87,
   "metadata": {},
   "outputs": [],
   "source": [
    "clean_mess=[word for word in nopunc.split() if word.lower() not in stopwords.words('english')]"
   ]
  },
  {
   "cell_type": "code",
   "execution_count": 88,
   "metadata": {},
   "outputs": [
    {
     "data": {
      "text/plain": [
       "['Sample', 'message', 'Notice', 'punctuation']"
      ]
     },
     "execution_count": 88,
     "metadata": {},
     "output_type": "execute_result"
    }
   ],
   "source": [
    "clean_mess"
   ]
  },
  {
   "cell_type": "code",
   "execution_count": 101,
   "metadata": {},
   "outputs": [],
   "source": [
    "def text_process(mess):\n",
    "    nopunc=[char for char in mess if char not in string.punctuation]\n",
    "    nopunc=''.join(nopunc)\n",
    "    return [word for word in nopunc.split() if word.lower() not in stopwords.words('english')]"
   ]
  },
  {
   "cell_type": "code",
   "execution_count": 102,
   "metadata": {},
   "outputs": [
    {
     "data": {
      "text/plain": [
       "0    [Go, jurong, point, crazy, Available, bugis, n...\n",
       "1                       [Ok, lar, Joking, wif, u, oni]\n",
       "2    [Free, entry, 2, wkly, comp, win, FA, Cup, fin...\n",
       "3        [U, dun, say, early, hor, U, c, already, say]\n",
       "4    [Nah, dont, think, goes, usf, lives, around, t...\n",
       "Name: message, dtype: object"
      ]
     },
     "execution_count": 102,
     "metadata": {},
     "output_type": "execute_result"
    }
   ],
   "source": [
    "message['message'].head(5).apply(text_process)"
   ]
  },
  {
   "cell_type": "code",
   "execution_count": 103,
   "metadata": {},
   "outputs": [],
   "source": [
    "from sklearn.feature_extraction.text import CountVectorizer"
   ]
  },
  {
   "cell_type": "code",
   "execution_count": 109,
   "metadata": {},
   "outputs": [],
   "source": [
    "bow_transformer=CountVectorizer(analyzer=text_process).fit(message['message'])"
   ]
  },
  {
   "cell_type": "code",
   "execution_count": 110,
   "metadata": {},
   "outputs": [
    {
     "name": "stdout",
     "output_type": "stream",
     "text": [
      "11425\n"
     ]
    }
   ],
   "source": [
    "print(len(bow_transformer.vocabulary_))"
   ]
  },
  {
   "cell_type": "code",
   "execution_count": 111,
   "metadata": {},
   "outputs": [
    {
     "name": "stdout",
     "output_type": "stream",
     "text": [
      "U dun say so early hor... U c already then say...\n"
     ]
    }
   ],
   "source": [
    "message4=message['message'][3]\n",
    "print(message4)"
   ]
  },
  {
   "cell_type": "code",
   "execution_count": 112,
   "metadata": {},
   "outputs": [
    {
     "name": "stdout",
     "output_type": "stream",
     "text": [
      "  (0, 4068)\t2\n",
      "  (0, 4629)\t1\n",
      "  (0, 5261)\t1\n",
      "  (0, 6204)\t1\n",
      "  (0, 6222)\t1\n",
      "  (0, 7186)\t1\n",
      "  (0, 9554)\t2\n",
      "(1, 11425)\n"
     ]
    }
   ],
   "source": [
    "bow4=bow_transformer.transform([message4])\n",
    "print(bow4)\n",
    "print(bow4.shape)"
   ]
  },
  {
   "cell_type": "code",
   "execution_count": 115,
   "metadata": {},
   "outputs": [
    {
     "name": "stdout",
     "output_type": "stream",
     "text": [
      "U\n",
      "say\n"
     ]
    }
   ],
   "source": [
    "print(bow_transformer.get_feature_names()[4068])\n",
    "print(bow_transformer.get_feature_names()[9554])"
   ]
  },
  {
   "cell_type": "code",
   "execution_count": 116,
   "metadata": {},
   "outputs": [],
   "source": [
    "message_bow=bow_transformer.transform(message['message'])"
   ]
  },
  {
   "cell_type": "code",
   "execution_count": 117,
   "metadata": {},
   "outputs": [
    {
     "name": "stdout",
     "output_type": "stream",
     "text": [
      "shape of sparse matrix: (5572, 11425)\n",
      "amount of non-zero occurence 50548\n"
     ]
    }
   ],
   "source": [
    "print('shape of sparse matrix:',message_bow.shape)\n",
    "print('amount of non-zero occurence',message_bow.nnz)"
   ]
  },
  {
   "cell_type": "code",
   "execution_count": 120,
   "metadata": {},
   "outputs": [
    {
     "name": "stdout",
     "output_type": "stream",
     "text": [
      "sparsity:0\n"
     ]
    }
   ],
   "source": [
    "sparsity=(100.0*message_bow.nnz/(message_bow.shape[0] * message_bow.shape[1]))\n",
    "print('sparsity:{}'.format(round(sparsity)))"
   ]
  },
  {
   "cell_type": "code",
   "execution_count": 124,
   "metadata": {},
   "outputs": [
    {
     "name": "stdout",
     "output_type": "stream",
     "text": [
      "  (0, 9554)\t0.5385626262927564\n",
      "  (0, 7186)\t0.4389365653379857\n",
      "  (0, 6222)\t0.3187216892949149\n",
      "  (0, 6204)\t0.29953799723697416\n",
      "  (0, 5261)\t0.29729957405868723\n",
      "  (0, 4629)\t0.26619801906087187\n",
      "  (0, 4068)\t0.40832589933384067\n"
     ]
    }
   ],
   "source": [
    "from sklearn.feature_extraction.text import TfidfTransformer\n",
    "\n",
    "tfidf_transformer=TfidfTransformer().fit(message_bow)\n",
    "tfidf4=tfidf_transformer.transform(bow4)\n",
    "print(tfidf4)"
   ]
  },
  {
   "cell_type": "code",
   "execution_count": 125,
   "metadata": {},
   "outputs": [
    {
     "name": "stdout",
     "output_type": "stream",
     "text": [
      "3.2800524267409408\n",
      "8.527076498901426\n"
     ]
    }
   ],
   "source": [
    "print(tfidf_transformer.idf_[bow_transformer.vocabulary_['u']])\n",
    "print(tfidf_transformer.idf_[bow_transformer.vocabulary_['university']])"
   ]
  },
  {
   "cell_type": "code",
   "execution_count": 129,
   "metadata": {},
   "outputs": [
    {
     "name": "stdout",
     "output_type": "stream",
     "text": [
      "(5572, 11425)\n"
     ]
    }
   ],
   "source": [
    "message_tfidf=tfidf_transformer.transform(message_bow)\n",
    "print(message_tfidf.shape)"
   ]
  },
  {
   "cell_type": "code",
   "execution_count": 131,
   "metadata": {},
   "outputs": [],
   "source": [
    "from sklearn.naive_bayes import MultinomialNB\n",
    "spam_detect_model=MultinomialNB().fit(message_tfidf,message['label'])"
   ]
  },
  {
   "cell_type": "code",
   "execution_count": 135,
   "metadata": {},
   "outputs": [
    {
     "name": "stdout",
     "output_type": "stream",
     "text": [
      "predicted ham\n",
      "expected ham\n"
     ]
    }
   ],
   "source": [
    "print('predicted',spam_detect_model.predict(tfidf4)[0])\n",
    "print(\"expected\",message.label[3])"
   ]
  },
  {
   "cell_type": "code",
   "execution_count": 137,
   "metadata": {},
   "outputs": [
    {
     "name": "stdout",
     "output_type": "stream",
     "text": [
      "['ham' 'ham' 'spam' ... 'ham' 'ham' 'ham']\n"
     ]
    }
   ],
   "source": [
    "all_predictions=spam_detect_model.predict(message_tfidf)\n",
    "print(all_predictions)"
   ]
  },
  {
   "cell_type": "code",
   "execution_count": 139,
   "metadata": {},
   "outputs": [
    {
     "name": "stdout",
     "output_type": "stream",
     "text": [
      "              precision    recall  f1-score   support\n",
      "\n",
      "         ham       0.98      1.00      0.99      4825\n",
      "        spam       1.00      0.85      0.92       747\n",
      "\n",
      "   micro avg       0.98      0.98      0.98      5572\n",
      "   macro avg       0.99      0.92      0.95      5572\n",
      "weighted avg       0.98      0.98      0.98      5572\n",
      "\n"
     ]
    }
   ],
   "source": [
    "from sklearn.metrics import classification_report\n",
    "print(classification_report(message['label'],all_predictions))"
   ]
  },
  {
   "cell_type": "markdown",
   "metadata": {},
   "source": [
    "### https://medium.com/@pemagrg/build-a-web-app-using-pythons-flask-for-beginners-f28315256893"
   ]
  },
  {
   "cell_type": "markdown",
   "metadata": {},
   "source": [
    "### https://medium.com/@adriensieg/text-similarities-da019229c894\n"
   ]
  },
  {
   "cell_type": "markdown",
   "metadata": {},
   "source": [
    "###  https://medium.com/analytics-vidhya/building-a-simple-chatbot-in-python-using-nltk-7c8c8215ac6e"
   ]
  },
  {
   "cell_type": "code",
   "execution_count": 141,
   "metadata": {},
   "outputs": [
    {
     "name": "stdout",
     "output_type": "stream",
     "text": [
      "Background\n",
      "In 1950, Alan Turing's famous article \"Computing Machinery and Intelligence\" was published, which proposed what is now called the Turing test as a criterion of intelligence.\n"
     ]
    }
   ],
   "source": [
    "import nltk\n",
    "import warnings\n",
    "warnings.filterwarnings(\"ignore\")\n",
    "\n",
    "import numpy as np\n",
    "import random\n",
    "import string\n",
    "\n",
    "f = open('chatbot.txt','r',errors='ignore')\n",
    "raw = f.read()\n",
    "sent_tokens = nltk.sent_tokenize(raw)\n",
    "word_tokens = nltk.word_tokenize(raw)\n",
    "\n",
    "lemmer = nltk.stem.WordNetLemmatizer()\n",
    "def LemTokens(tokens):\n",
    "  return [lemmer.lemmatize(token) for token in tokens]\n",
    "remov_pun = dict((ord(punct), None) for punct in string.punctuation)\n",
    "def LemNormalize(text):\n",
    "  return LemTokens(nltk.word_tokenize(text.lower().translate(remov_pun)))\n",
    "\n",
    "GREETING_INPUTS = (\"hello\", \"hi\", \"greetings\",\"wassup\",\"hey\")\n",
    "GREETING_RESPONSES = [\"hi\",\"hey\",\"Hi There\",\"I'm glad that you are talking to me\"]\n",
    "\n",
    "def greetCheck(sentence):\n",
    "  for word in sentence.split():\n",
    "    if word.lower() in GREETING_INPUTS:\n",
    "      return random.choice(GREETING_RESPONSES)\n",
    "    \n",
    "from sklearn.feature_extraction.text import TfidfVectorizer\n",
    "from sklearn.metrics.pairwise import cosine_similarity\n",
    "\n",
    "def responseText(user_response):\n",
    "  sent_tokens.append(user_response)\n",
    "  TfidfVec = TfidfVectorizer(tokenizer=LemNormalize, stop_words='english')\n",
    "  tfidf = TfidfVec.fit_transform(sent_tokens)\n",
    "  vals = cosine_similarity(tfidf[-1],tfidf)\n",
    "  idx = vals.argsort()[0][-2]\n",
    "  sent_tokens.remove(user_response)\n",
    "  if(greetCheck(user_response)!=None):\n",
    "    response = greetCheck(user_response)\n",
    "  else:\n",
    "    response = sent_tokens[idx] \n",
    "  return response\n",
    "\n",
    "print(responseText('alan turing'))\n",
    "\n",
    "\n"
   ]
  },
  {
   "cell_type": "code",
   "execution_count": null,
   "metadata": {},
   "outputs": [],
   "source": []
  }
 ],
 "metadata": {
  "kernelspec": {
   "display_name": "Python 3",
   "language": "python",
   "name": "python3"
  },
  "language_info": {
   "codemirror_mode": {
    "name": "ipython",
    "version": 3
   },
   "file_extension": ".py",
   "mimetype": "text/x-python",
   "name": "python",
   "nbconvert_exporter": "python",
   "pygments_lexer": "ipython3",
   "version": "3.7.3"
  }
 },
 "nbformat": 4,
 "nbformat_minor": 2
}
